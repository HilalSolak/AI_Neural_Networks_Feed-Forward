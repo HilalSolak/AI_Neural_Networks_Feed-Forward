{
  "nbformat": 4,
  "nbformat_minor": 0,
  "metadata": {
    "colab": {
      "provenance": [],
      "authorship_tag": "ABX9TyPrnkjTQPAZzB/LcoZUBhRK",
      "include_colab_link": true
    },
    "kernelspec": {
      "name": "python3",
      "display_name": "Python 3"
    },
    "language_info": {
      "name": "python"
    }
  },
  "cells": [
    {
      "cell_type": "markdown",
      "metadata": {
        "id": "view-in-github",
        "colab_type": "text"
      },
      "source": [
        "<a href=\"https://colab.research.google.com/github/HilalSolak/AI_Neural_Networks_Feed-Forward/blob/main/Answersofquestions4.1%26%264.2.ipynb\" target=\"_parent\"><img src=\"https://colab.research.google.com/assets/colab-badge.svg\" alt=\"Open In Colab\"/></a>"
      ]
    },
    {
      "cell_type": "code",
      "source": [
        "import torch\n",
        "\n",
        "# Seed değerini ayarla\n",
        "torch.manual_seed(1)\n",
        "\n",
        "# X matrisini tanımla ve tensor olarak dönüştür\n",
        "X = torch.tensor([[1, 2, 3], [4, 5, 6]], dtype=torch.float)\n",
        "\n",
        "# Hidden layer için ağırlıkları ve bias'ı tanımla\n",
        "hidden_weights = torch.randn((3, 50), dtype=torch.float)\n",
        "hidden_bias = torch.zeros((1, 50), dtype=torch.float)\n",
        "\n",
        "# Output layer için ağırlıkları ve bias'ı tanımla\n",
        "output_weights = torch.randn((50, 1), dtype=torch.float)\n",
        "output_bias = torch.zeros((1, 1), dtype=torch.float)\n",
        "\n",
        "# Tanh aktivasyon fonksiyonunu tanımla\n",
        "def tanh(x):\n",
        "    return (torch.exp(x) - torch.exp(-x)) / (torch.exp(x) + torch.exp(-x))\n",
        "\n",
        "# Sigmoid aktivasyon fonksiyonunu tanımla\n",
        "def sigmoid(x):\n",
        "    return 1 / (1 + torch.exp(-x))\n",
        "\n",
        "# Girdileri hidden layer'a aktar\n",
        "hidden_layer_input = torch.add(torch.matmul(X.view(2, 3), hidden_weights.view(3, 50)), hidden_bias.view(1, 50))\n",
        "\n",
        "# Hidden layer'daki nöronların çıktılarını hesapla\n",
        "hidden_layer_output = tanh(hidden_layer_input)\n",
        "\n",
        "# Hidden layer'daki çıktıları output layer'a aktar\n",
        "output_layer_input = torch.add(torch.matmul(hidden_layer_output.view(2, 50), output_weights.view(50, 1)), output_bias.view(1, 1))\n",
        "\n",
        "# Output layer'daki nöronun çıktısını hesapla\n",
        "output = sigmoid(output_layer_input)\n",
        "\n",
        "# Çıktıyı yazdır\n",
        "print(output)\n"
      ],
      "metadata": {
        "colab": {
          "base_uri": "https://localhost:8080/"
        },
        "id": "LvjxogZgcauw",
        "outputId": "dd54b8dd-4a0b-4275-c241-dca18d0e3307"
      },
      "execution_count": 2,
      "outputs": [
        {
          "output_type": "stream",
          "name": "stdout",
          "text": [
            "tensor([[0.9997],\n",
            "        [0.9976]])\n"
          ]
        }
      ]
    },
    {
      "cell_type": "code",
      "source": [],
      "metadata": {
        "id": "PmF2-sp_dvGs"
      },
      "execution_count": null,
      "outputs": []
    },
    {
      "cell_type": "code",
      "source": [
        "import torch\n",
        "\n",
        "# Seed değerini okul numarama gore ayarladim\n",
        "torch.manual_seed(190401020)\n",
        "\n",
        "# X matrisini tanımla ve tensor olarak dönüştür\n",
        "X = torch.tensor([[1, 2, 3], [4, 5, 6]], dtype=torch.float)\n",
        "\n",
        "# Hidden layer için ağırlıkları ve bias'ı tanımla\n",
        "hidden_weights = torch.randn((3, 50), dtype=torch.float)\n",
        "hidden_bias = torch.zeros((1, 50), dtype=torch.float)\n",
        "\n",
        "# Output layer için ağırlıkları ve bias'ı tanımla\n",
        "output_weights = torch.randn((50, 1), dtype=torch.float)\n",
        "output_bias = torch.zeros((1, 1), dtype=torch.float)\n",
        "\n",
        "# Tanh aktivasyon fonksiyonunu tanımla\n",
        "def tanh(x):\n",
        "    return (torch.exp(x) - torch.exp(-x)) / (torch.exp(x) + torch.exp(-x))\n",
        "\n",
        "# Sigmoid aktivasyon fonksiyonunu tanımla\n",
        "def sigmoid(x):\n",
        "    return 1 / (1 + torch.exp(-x))\n",
        "\n",
        "# Girdileri hidden layer'a aktar\n",
        "hidden_layer_input = torch.add(torch.matmul(X.view(2, 3), hidden_weights.view(3, 50)), hidden_bias.view(1, 50))\n",
        "\n",
        "# Hidden layer'daki nöronların çıktılarını hesapla\n",
        "hidden_layer_output = tanh(hidden_layer_input)\n",
        "\n",
        "# Hidden layer'daki çıktıları output layer'a aktar\n",
        "output_layer_input = torch.add(torch.matmul(hidden_layer_output.view(2, 50), output_weights.view(50, 1)), output_bias.view(1, 1))\n",
        "\n",
        "# Output layer'daki nöronun çıktısını hesapla\n",
        "output = sigmoid(output_layer_input)\n",
        "\n",
        "# Çıktıyı yazdır\n",
        "print(output)\n"
      ],
      "metadata": {
        "colab": {
          "base_uri": "https://localhost:8080/"
        },
        "outputId": "8df5b139-0c1d-426b-cc4b-f5b3fa870c24",
        "id": "HpQvVSK9dvoR"
      },
      "execution_count": 5,
      "outputs": [
        {
          "output_type": "stream",
          "name": "stdout",
          "text": [
            "tensor([[0.7467],\n",
            "        [0.7465]])\n"
          ]
        }
      ]
    }
  ]
}