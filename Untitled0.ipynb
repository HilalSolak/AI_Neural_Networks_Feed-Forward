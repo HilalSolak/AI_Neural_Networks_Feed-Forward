{
  "nbformat": 4,
  "nbformat_minor": 0,
  "metadata": {
    "colab": {
      "provenance": [],
      "authorship_tag": "ABX9TyMyEWAPLVgiujnb/ZccwbAg",
      "include_colab_link": true
    },
    "kernelspec": {
      "name": "python3",
      "display_name": "Python 3"
    },
    "language_info": {
      "name": "python"
    }
  },
  "cells": [
    {
      "cell_type": "markdown",
      "metadata": {
        "id": "view-in-github",
        "colab_type": "text"
      },
      "source": [
        "<a href=\"https://colab.research.google.com/github/HilalSolak/AI_Neural_Networks_Feed-Forward/blob/main/Untitled0.ipynb\" target=\"_parent\"><img src=\"https://colab.research.google.com/assets/colab-badge.svg\" alt=\"Open In Colab\"/></a>"
      ]
    },
    {
      "cell_type": "code",
      "source": [
        "import torch\n",
        "\n",
        "# seed=1 set ediyorum\n",
        "torch.manual_seed(1)\n",
        "\n",
        "#Giriş tensörünü tanımlıyoruz\n",
        "X = torch.tensor([[1, 2, 3], [4, 5, 6]], dtype=torch.float)\n",
        "\n",
        "#Yapay sinir ağı mimarisini tanımla\n",
        "class Net(torch.nn.Module):\n",
        "    def __init__(self):\n",
        "        super(Net, self).__init__()\n",
        "        self.hidden = torch.nn.Linear(3, 50)\n",
        "        self.output = torch.nn.Linear(50, 1)\n",
        "        \n",
        "    def tanh(self, x):\n",
        "        return (torch.exp(x) - torch.exp(-x)) / (torch.exp(x) + torch.exp(-x))\n",
        "    \n",
        "    def sigmoid(self, x):\n",
        "        return 1 / (1 + torch.exp(-x))\n",
        "        \n",
        "    def forward(self, x):\n",
        "        x = self.hidden(x)\n",
        "        x = self.tanh(x)\n",
        "        x = self.output(x)\n",
        "        x = self.sigmoid(x)\n",
        "        return x\n",
        "\n",
        "# Yapay sinir ağı modelini başlat\n",
        "net = Net()\n",
        "\n",
        "#Yapay sinir ağı mimarisini ekrana yazdır\n",
        "print(net)\n",
        "#forward propagation gerçekleştir.\n",
        "output = net(X)\n",
        "\n",
        "# çıktıyı yazdır\n",
        "print(output)"
      ],
      "metadata": {
        "colab": {
          "base_uri": "https://localhost:8080/"
        },
        "id": "LvjxogZgcauw",
        "outputId": "aa7d80cb-7fbf-4732-ab52-df604f00f462"
      },
      "execution_count": 20,
      "outputs": [
        {
          "output_type": "stream",
          "name": "stdout",
          "text": [
            "Net(\n",
            "  (hidden): Linear(in_features=3, out_features=50, bias=True)\n",
            "  (output): Linear(in_features=50, out_features=1, bias=True)\n",
            ")\n",
            "tensor([[0.4892],\n",
            "        [0.5566]], grad_fn=<MulBackward0>)\n"
          ]
        }
      ]
    },
    {
      "cell_type": "code",
      "source": [
        "import torch\n",
        "\n",
        "torch.manual_seed(190401020)#okul numaram\n",
        "\n",
        "#Giriş tensörünü tanımlıyoruz\n",
        "X = torch.tensor([[1, 2, 3], [4, 5, 6]], dtype=torch.float)\n",
        "\n",
        "#Yapay sinir ağı mimarisini tanımla\n",
        "class Net(torch.nn.Module):\n",
        "    def __init__(self):\n",
        "        super(Net, self).__init__()\n",
        "        self.hidden = torch.nn.Linear(3, 50)\n",
        "        self.output = torch.nn.Linear(50, 1)\n",
        "        \n",
        "    def tanh(self, x):\n",
        "        return (torch.exp(x) - torch.exp(-x)) / (torch.exp(x) + torch.exp(-x))\n",
        "    \n",
        "    def sigmoid(self, x):\n",
        "        return 1 / (1 + torch.exp(-x))\n",
        "        \n",
        "    def forward(self, x):\n",
        "        x = self.hidden(x)\n",
        "        x = self.tanh(x)\n",
        "        x = self.output(x)\n",
        "        x = self.sigmoid(x)\n",
        "        return x\n",
        "\n",
        "# Yapay sinir ağı modelini başlat\n",
        "net = Net()\n",
        "\n",
        "#Yapay sinir ağı mimarisini ekrana yazdır\n",
        "print(net)\n",
        "#forward propagation gerçekleştir.\n",
        "output = net(X)\n",
        "\n",
        "# çıktıyı yazdır\n",
        "print(output)"
      ],
      "metadata": {
        "colab": {
          "base_uri": "https://localhost:8080/"
        },
        "id": "5eHgabXzYNAs",
        "outputId": "d6bc5294-1700-4b1c-92e4-4308b9978b77"
      },
      "execution_count": 21,
      "outputs": [
        {
          "output_type": "stream",
          "name": "stdout",
          "text": [
            "Net(\n",
            "  (hidden): Linear(in_features=3, out_features=50, bias=True)\n",
            "  (output): Linear(in_features=50, out_features=1, bias=True)\n",
            ")\n",
            "tensor([[0.5255],\n",
            "        [0.5461]], grad_fn=<MulBackward0>)\n"
          ]
        }
      ]
    }
  ]
}